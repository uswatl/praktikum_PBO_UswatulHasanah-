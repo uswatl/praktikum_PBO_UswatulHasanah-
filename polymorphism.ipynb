{
  "nbformat": 4,
  "nbformat_minor": 0,
  "metadata": {
    "colab": {
      "provenance": [],
      "authorship_tag": "ABX9TyP1f6dz/bIxC8Z64IgTRyaD",
      "include_colab_link": true
    },
    "kernelspec": {
      "name": "python3",
      "display_name": "Python 3"
    },
    "language_info": {
      "name": "python"
    }
  },
  "cells": [
    {
      "cell_type": "markdown",
      "metadata": {
        "id": "view-in-github",
        "colab_type": "text"
      },
      "source": [
        "<a href=\"https://colab.research.google.com/github/uswatl/praktikum_PBO_UswatulHasanah-/blob/main/polymorphism.ipynb\" target=\"_parent\"><img src=\"https://colab.research.google.com/assets/colab-badge.svg\" alt=\"Open In Colab\"/></a>"
      ]
    },
    {
      "cell_type": "code",
      "execution_count": null,
      "metadata": {
        "id": "IejG1XA6qpSR"
      },
      "outputs": [],
      "source": [
        "# Polimorfisme: Banyak class, method yang sama\n",
        "\n",
        "class Kucing:\n",
        "    def speak(self):\n",
        "        print(\"Meow\")\n",
        "\n",
        "class Anjing:\n",
        "    def speak(self):\n",
        "        print(\"Guk Guk\")\n",
        "\n",
        "class Burung:\n",
        "    def speak(self):\n",
        "        print(\"Cuit cuit\")\n",
        "\n",
        "# Fungsi yang menerima berbagai jenis objek\n",
        "def hewan_bersuara(hewan):\n",
        "    hewan.speak()\n",
        "\n",
        "# Objek\n",
        "hewan1 = Kucing()\n",
        "hewan2 = Anjing()\n",
        "hewan3 = Burung()\n",
        "\n",
        "hewan_bersuara(hewan1)\n",
        "hewan_bersuara(hewan2)\n",
        "hewan_bersuara(hewan3)\n",
        "\n",
        "# Tambahan eksperimen: class Tanpa speak\n",
        "class Ikan:\n",
        "    def diam(self):\n",
        "        print(\"...\")\n",
        "\n",
        "# Coba panggil (ini akan error)\n",
        "# hewan_bersuara(Ikan())  # Uncomment ini untuk melihat error karena tidak ada method speak()"
      ]
    }
  ]
}