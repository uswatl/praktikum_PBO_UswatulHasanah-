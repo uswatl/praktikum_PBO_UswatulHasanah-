# Polimorfisme: Banyak class, method yang sama

class Kucing:
    def speak(self):
        print("Meow")

class Anjing:
    def speak(self):
        print("Guk Guk")

class Burung:
    def speak(self):
        print("Cuit cuit")

# Fungsi yang menerima berbagai jenis objek
def hewan_bersuara(hewan):
    hewan.speak()

# Objek
hewan1 = Kucing()
hewan2 = Anjing()
hewan3 = Burung()

hewan_bersuara(hewan1)
hewan_bersuara(hewan2)
hewan_bersuara(hewan3)

# Tambahan eksperimen: class Tanpa speak
class Ikan:
    def diam(self):
        print("...")

# Coba panggil (ini akan error)
# hewan_bersuara(Ikan())  # Uncomment ini untuk melihat error karena tidak ada method speak()
